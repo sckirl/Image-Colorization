{
 "cells": [
  {
   "cell_type": "code",
   "execution_count": 1,
   "source": [
    "import ImageColorization\r\n",
    "import numpy as np\r\n",
    "from keras.preprocessing.image import ImageDataG  enerator\r\n",
    "import cv2\r\n",
    "from skimage.color import lab2rgb, rgb2lab\r\n",
    "\r\n",
    "IC = ImageColorization.ImageColorization()\r\n",
    "trainX, trainY = IC.generateData(folder=\"D:\\pythonProject\\ImageProcessing\\mirflickr25k\",\r\n",
    "                                batch=100)\r\n",
    "\r\n",
    "IC.train(trainX, trainY, batch=4, epochs=10)"
   ],
   "outputs": [
    {
     "output_type": "stream",
     "name": "stdout",
     "text": [
      "Found 25000 images belonging to 1 classes.\n",
      "Added 100 images\n",
      "Adding Model...\n",
      "Epoch 1/10\n",
      "25/25 [==============================] - 59s 2s/step - loss: 0.1780 - accuracy: 0.4919\n",
      "Epoch 2/10\n",
      "25/25 [==============================] - 46s 2s/step - loss: 0.0280 - accuracy: 0.5947\n",
      "Epoch 3/10\n",
      "25/25 [==============================] - 49s 2s/step - loss: 0.0305 - accuracy: 0.4939\n",
      "Epoch 4/10\n",
      "25/25 [==============================] - 43s 2s/step - loss: 0.0243 - accuracy: 0.4743\n",
      "Epoch 5/10\n",
      "25/25 [==============================] - 45s 2s/step - loss: 0.0311 - accuracy: 0.4250\n",
      "Epoch 6/10\n",
      "25/25 [==============================] - 49s 2s/step - loss: 0.0250 - accuracy: 0.4816\n",
      "Epoch 7/10\n",
      "25/25 [==============================] - 44s 2s/step - loss: 0.0232 - accuracy: 0.5194\n",
      "Epoch 8/10\n",
      "25/25 [==============================] - 46s 2s/step - loss: 0.0284 - accuracy: 0.5121\n",
      "Epoch 9/10\n",
      "25/25 [==============================] - 48s 2s/step - loss: 0.0277 - accuracy: 0.5008\n",
      "Epoch 10/10\n",
      "25/25 [==============================] - 44s 2s/step - loss: 0.0208 - accuracy: 0.4989\n",
      "INFO:tensorflow:Assets written to: Model/ImageColorization\\assets\n"
     ]
    },
    {
     "output_type": "execute_result",
     "data": {
      "text/plain": [
       "<keras.engine.sequential.Sequential at 0x20be67b62e0>"
      ]
     },
     "metadata": {},
     "execution_count": 1
    }
   ],
   "metadata": {}
  },
  {
   "cell_type": "code",
   "execution_count": null,
   "source": [
    "import ImageColorization\r\n",
    "import numpy as np\r\n",
    "import cv2\r\n",
    "import tensorflow as tf\r\n",
    "from keras.models import load_model\r\n",
    "import matplotlib.pyplot as plt\r\n",
    "from math import ceil\r\n",
    "\r\n",
    "import warnings\r\n",
    "warnings.filterwarnings(\"ignore\")\r\n",
    "import os\r\n",
    "os.environ['TF_CPP_MIN_LOG_LEVEL'] = '3' \r\n",
    "\r\n",
    "IC = ImageColorization.ImageColorization()\r\n",
    "\r\n",
    "file = \"D:\\pythonProject\\ImageProcessing\\mirflickr25k\\mirflickr\\im101.jpg\"\r\n",
    "img = np.array(cv2.imread(file))\r\n",
    "img = cv2.resize(img, (256, 256))\r\n",
    "\r\n",
    "Lval = cv2.cvtColor(img, cv2.COLOR_BGR2LAB)[:, :, 0]\r\n",
    "Lval = [Lval.reshape(Lval.shape+(1,))]\r\n",
    "grayTest = np.array(Lval).astype(np.float32)\r\n",
    "print(grayTest.shape)\r\n",
    "\r\n",
    "model = load_model(\"Model/ImageColorization\")\r\n",
    "prediction = model.predict(grayTest)\r\n",
    "prediction *= 128\r\n",
    "\r\n",
    "print(type(prediction[0][0][0][0]), type(grayTest[0][0][0][0]))\r\n",
    "\r\n",
    "LABimg = cv2.merge((grayTest[0], prediction[0]))\r\n",
    "RGBimg = cv2.cvtColor(LABimg, cv2.COLOR_LAB2RGB)\r\n",
    "\r\n",
    "imgs = [img, RGBimg, prediction[0][:, :, 0], prediction[0][:, :, 1],]\r\n",
    "_, axs = plt.subplots(ceil(len(imgs)/2), 2, figsize=(12, 12))\r\n",
    "axs = axs.flatten()\r\n",
    "\r\n",
    "for img, ax in zip(imgs, axs):\r\n",
    "    ax.imshow(img)"
   ],
   "outputs": [],
   "metadata": {}
  },
  {
   "cell_type": "code",
   "execution_count": 8,
   "source": [
    "import ImageColorization\r\n",
    "import numpy as np\r\n",
    "import cv2\r\n",
    "import tensorflow as tf\r\n",
    "from keras.models import load_model\r\n",
    "import matplotlib.pyplot as plt\r\n",
    "from math import ceil\r\n",
    "from skimage.color import lab2rgb, rgb2lab\r\n",
    "\r\n",
    "import warnings\r\n",
    "warnings.filterwarnings(\"ignore\")\r\n",
    "tf.get_logger().setLevel('INFO')\r\n",
    "\r\n",
    "IC = ImageColorization.ImageColorization()\r\n",
    "\r\n",
    "model = load_model(\"D:\\pythonProject\\ImageProcessing\\Model\\ImageColorization\")\r\n",
    "img = cv2.imread(\"D:\\pythonProject\\ImageProcessing\\download (3).jpg\")\r\n",
    "\r\n",
    "img = cv2.resize(img, (256, 256))\r\n",
    "\r\n",
    "test = np.array([img], dtype=float)\r\n",
    "test = rgb2lab(1./255*test)[:, :, :, 0]\r\n",
    "test = test.reshape(test.shape + (1,))\r\n",
    "\r\n",
    "out = model.predict(test)\r\n",
    "out = (out*128).astype(float)\r\n",
    "print(test.shape, out.shape)\r\n",
    "res = cv2.merge((test[0], out[0]))\r\n",
    "\r\n",
    "IC.visualize([img, lab2rgb(res), out[0][:, :, 0], out[0][:, :, 1]])"
   ],
   "outputs": [],
   "metadata": {}
  }
 ],
 "metadata": {
  "orig_nbformat": 4,
  "language_info": {
   "name": "python",
   "version": "3.9.2",
   "mimetype": "text/x-python",
   "codemirror_mode": {
    "name": "ipython",
    "version": 3
   },
   "pygments_lexer": "ipython3",
   "nbconvert_exporter": "python",
   "file_extension": ".py"
  },
  "kernelspec": {
   "name": "python3",
   "display_name": "Python 3.9.2 64-bit"
  },
  "interpreter": {
   "hash": "8b03d4cd05d71d535371b426da57de743181e37d8974a9636efe6e78873daaed"
  }
 },
 "nbformat": 4,
 "nbformat_minor": 2
}